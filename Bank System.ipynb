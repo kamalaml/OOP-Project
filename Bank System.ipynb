{
 "cells": [
  {
   "cell_type": "code",
   "execution_count": 1,
   "metadata": {},
   "outputs": [],
   "source": [
    "class User():\n",
    "    def __init__(self, name, age, address):\n",
    "        self.name = name\n",
    "        self.age = age\n",
    "        self.address = address\n",
    "\n",
    "    def account_summary(self):\n",
    "        print(f\"\\nPersonal Information\\nName: {self.name}\\nAge: {self.age}\\nDOB: {self.address} \")\n",
    "        \n",
    "class CheckingAccount(User):\n",
    "    def __init__(self, name, age, address):\n",
    "        super().__init__(name, age, address)\n",
    "        self.balance = 0\n",
    "\n",
    "    def summary(self):\n",
    "        self.account_summary()\n",
    "        print(f'Account Balance: ${self.balance:.2f}')\n",
    "\n",
    "    def deposit (self,dep_amount):\n",
    "        self.dep_amount = dep_amount\n",
    "        self.balance += dep_amount\n",
    "        print(f'You have successfully deposited ${self.dep_amount:.2f}')\n",
    "        print(f'Your new account balance is: ${self.balance:.2f}')\n",
    "\n",
    "    def withdraw (self,withdraw_amount):\n",
    "        self.withdraw_amount = withdraw_amount\n",
    "        if self.balance >= withdraw_amount:\n",
    "            self.balance -= withdraw_amount\n",
    "            print(f'You have successfully withdrew ${self.withdraw_amount:.2f}')\n",
    "            print(f'Your new account balance is: ${self.balance:.2f}')\n",
    "        else:\n",
    "            print(f'You have insufficent funds. Please try again.\\nBalance avaliable: ${self.balance:.2f}')\n"
   ]
  },
  {
   "cell_type": "code",
   "execution_count": null,
   "metadata": {},
   "outputs": [],
   "source": []
  }
 ],
 "metadata": {
  "kernelspec": {
   "display_name": "Python 3",
   "language": "python",
   "name": "python3"
  },
  "language_info": {
   "codemirror_mode": {
    "name": "ipython",
    "version": 3
   },
   "file_extension": ".py",
   "mimetype": "text/x-python",
   "name": "python",
   "nbconvert_exporter": "python",
   "pygments_lexer": "ipython3",
   "version": "3.7.6"
  }
 },
 "nbformat": 4,
 "nbformat_minor": 4
}
