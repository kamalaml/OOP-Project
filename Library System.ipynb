{
 "cells": [
  {
   "cell_type": "code",
   "execution_count": 1,
   "metadata": {},
   "outputs": [],
   "source": [
    "class Library:\n",
    "    global list_of_books\n",
    "    list_of_books=['machine learning book', 'data science book']\n",
    "    def __init__(self,name):\n",
    "        self.name=name\n",
    "        \n",
    "    def display_books(self):\n",
    "        print(list_of_books)\n",
    "        \n",
    "    def borrow_book(self,name_of_book):\n",
    "        if name_of_book in list_of_books:\n",
    "            print(\"you can borrow the book\")\n",
    "            list_of_books.remove(name_of_book)\n",
    "        else:\n",
    "            print(\"the book not found\")\n",
    "     \n",
    "    def add_book(self,name_of_added_book):\n",
    "        list_of_books.append(name_of_added_book)\n",
    "        print(list_of_books)"
   ]
  },
  {
   "cell_type": "code",
   "execution_count": null,
   "metadata": {},
   "outputs": [],
   "source": []
  }
 ],
 "metadata": {
  "kernelspec": {
   "display_name": "Python 3",
   "language": "python",
   "name": "python3"
  },
  "language_info": {
   "codemirror_mode": {
    "name": "ipython",
    "version": 3
   },
   "file_extension": ".py",
   "mimetype": "text/x-python",
   "name": "python",
   "nbconvert_exporter": "python",
   "pygments_lexer": "ipython3",
   "version": "3.7.6"
  }
 },
 "nbformat": 4,
 "nbformat_minor": 4
}
